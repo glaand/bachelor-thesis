{
 "cells": [
  {
   "cell_type": "code",
   "execution_count": 1,
   "metadata": {},
   "outputs": [],
   "source": [
    "import numpy as np\n",
    "import matplotlib.pyplot as plt\n",
    "import scienceplots\n",
    "import pandas as pd\n",
    "from matplotlib.backends.backend_pdf import PdfPages\n",
    "\n",
    "plt.style.use(['science', 'no-latex'])"
   ]
  },
  {
   "cell_type": "code",
   "execution_count": 2,
   "metadata": {},
   "outputs": [],
   "source": [
    "data_ng = {\n",
    "    'Lid Driven Cavity 2D': {\n",
    "        32: {\n",
    "            'CG': np.loadtxt('experiments_2d/ldc/32/cg/n_cg_over_it.dat'),\n",
    "            'PCG Deep Learning': np.loadtxt('experiments_2d/ldc/32/dcdm/n_cg_over_it.dat'),\n",
    "        },\n",
    "        64: {\n",
    "            'CG': np.loadtxt('experiments_2d/ldc/64/cg/n_cg_over_it.dat'),\n",
    "            'PCG Deep Learning': np.loadtxt('experiments_2d/ldc/64/dcdm/n_cg_over_it.dat'),\n",
    "        },\n",
    "        128: {\n",
    "            'CG': np.loadtxt('experiments_2d/ldc/128/cg/n_cg_over_it.dat'),\n",
    "            'PCG Deep Learning': np.loadtxt('experiments_2d/ldc/128/dcdm/n_cg_over_it.dat'),\n",
    "        },\n",
    "    },\n",
    "    'Channel Flow 2D': {\n",
    "        128: {\n",
    "            'CG': np.loadtxt('experiments_2d/shear_flow/128/cg/n_cg_over_it.dat'),\n",
    "            'PCG Deep Learning': np.loadtxt('experiments_2d/shear_flow/128/dcdm/n_cg_over_it.dat'),\n",
    "        },\n",
    "    },\n",
    "    'Karman Vortex Street 2D': {\n",
    "        128: {\n",
    "            'CG': np.loadtxt('experiments_2d/karman2/cg/n_cg_over_it.dat'),\n",
    "            'PCG Deep Learning': np.loadtxt('experiments_2d/karman2/128/n_cg_over_it.dat'),\n",
    "        },\n",
    "    },\n",
    "}"
   ]
  },
  {
   "cell_type": "code",
   "execution_count": 3,
   "metadata": {},
   "outputs": [],
   "source": [
    "rows = []\n",
    "\n",
    "# Iterate over the nested dictionary to extract data\n",
    "for key1, sub_dict in data_ng.items():\n",
    "    for key2, solvers in sub_dict.items():\n",
    "        for solver, data in solvers.items():\n",
    "            rows.append({\n",
    "                'Use Case': key1,\n",
    "                'Grid Size': key2,\n",
    "                'Solver': solver,\n",
    "                'Mean Number of CG Iterations': np.floor(np.mean(data))\n",
    "            })\n",
    "\n",
    "# Create a DataFrame from the list of rows\n",
    "df = pd.DataFrame(rows)\n",
    "\n",
    "# Pivot the DataFrame to have solvers as columns\n",
    "df_pivot = df.pivot_table(index=['Use Case', 'Grid Size'], columns='Solver', values='Mean Number of CG Iterations')\n",
    "\n",
    "# Reset the index to make it easier to read\n",
    "df_pivot.reset_index(inplace=True)\n",
    "\n",
    "# Create MultiIndex for columns to have an overhead 'Solver' level\n",
    "df_pivot.columns = pd.MultiIndex.from_tuples([('Use Case', ''), ('Grid Size', ''), ('Solver', 'CG'), ('Solver', 'PCG Deep Learning')])\n",
    "\n",
    "# Set the correct column types\n",
    "df_pivot[('Solver', 'CG')] = df_pivot[('Solver', 'CG')].astype(int)\n",
    "df_pivot[('Solver', 'PCG Deep Learning')] = df_pivot[('Solver', 'PCG Deep Learning')].astype(int)"
   ]
  },
  {
   "cell_type": "code",
   "execution_count": 4,
   "metadata": {},
   "outputs": [
    {
     "name": "stdout",
     "output_type": "stream",
     "text": [
      "\\begin{tabular}{llrrr}\n",
      "\\toprule\n",
      " & Use Case & Grid Size & \\multicolumn{2}{r}{Solver} \\\\\n",
      " &  &  & CG & PCG Deep Learning \\\\\n",
      "\\midrule\n",
      "0 & Channel Flow 2D & 128 & 106 & 15 \\\\\n",
      "1 & Karman Vortex Street 2D & 128 & 184 & 25 \\\\\n",
      "2 & Lid Driven Cavity 2D & 32 & 87 & 19 \\\\\n",
      "3 & Lid Driven Cavity 2D & 64 & 180 & 28 \\\\\n",
      "4 & Lid Driven Cavity 2D & 128 & 371 & 57 \\\\\n",
      "\\bottomrule\n",
      "\\end{tabular}\n",
      "\n"
     ]
    }
   ],
   "source": [
    "print(df_pivot.to_latex())"
   ]
  },
  {
   "cell_type": "code",
   "execution_count": 6,
   "metadata": {},
   "outputs": [
    {
     "name": "stdout",
     "output_type": "stream",
     "text": [
      "0.7308038473129272\n",
      "-13.451775550842285\n"
     ]
    }
   ],
   "source": [
    "aa = np.loadtxt('experiments_2d/karman2/128/p.dat')\n",
    "print(np.max(aa))\n",
    "print(np.min(aa))"
   ]
  }
 ],
 "metadata": {
  "kernelspec": {
   "display_name": "bachelor-thesis",
   "language": "python",
   "name": "python3"
  },
  "language_info": {
   "codemirror_mode": {
    "name": "ipython",
    "version": 3
   },
   "file_extension": ".py",
   "mimetype": "text/x-python",
   "name": "python",
   "nbconvert_exporter": "python",
   "pygments_lexer": "ipython3",
   "version": "3.11.5"
  }
 },
 "nbformat": 4,
 "nbformat_minor": 2
}
